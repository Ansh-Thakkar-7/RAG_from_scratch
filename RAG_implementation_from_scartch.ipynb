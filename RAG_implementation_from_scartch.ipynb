{
 "cells": [
  {
   "cell_type": "code",
   "execution_count": 1,
   "id": "ad2ee1ee",
   "metadata": {},
   "outputs": [],
   "source": [
    "user_query=\"i am an indian and i live in india\""
   ]
  },
  {
   "cell_type": "code",
   "execution_count": 2,
   "id": "037a75c7",
   "metadata": {},
   "outputs": [],
   "source": [
    "document=\"india is a country for the indians and for eveyone\""
   ]
  },
  {
   "cell_type": "code",
   "execution_count": 3,
   "id": "c7145b5f",
   "metadata": {},
   "outputs": [],
   "source": [
    "from collections import Counter\n",
    "import math"
   ]
  },
  {
   "cell_type": "code",
   "execution_count": 4,
   "id": "eee11c53",
   "metadata": {},
   "outputs": [
    {
     "data": {
      "text/plain": [
       "['i', 'am', 'an', 'indian', 'and', 'i', 'live', 'in', 'india']"
      ]
     },
     "execution_count": 4,
     "metadata": {},
     "output_type": "execute_result"
    }
   ],
   "source": [
    "query_tokens=user_query.lower().split(\" \")\n",
    "query_tokens"
   ]
  },
  {
   "cell_type": "code",
   "execution_count": 5,
   "id": "b15304d4",
   "metadata": {},
   "outputs": [
    {
     "data": {
      "text/plain": [
       "['india',\n",
       " 'is',\n",
       " 'a',\n",
       " 'country',\n",
       " 'for',\n",
       " 'the',\n",
       " 'indians',\n",
       " 'and',\n",
       " 'for',\n",
       " 'eveyone']"
      ]
     },
     "execution_count": 5,
     "metadata": {},
     "output_type": "execute_result"
    }
   ],
   "source": [
    "document_tokens=document.lower().split(\" \")\n",
    "document_tokens"
   ]
  },
  {
   "cell_type": "code",
   "execution_count": 6,
   "id": "914273ec",
   "metadata": {},
   "outputs": [],
   "source": [
    "query_counter=Counter(query_tokens)"
   ]
  },
  {
   "cell_type": "code",
   "execution_count": 7,
   "id": "84a08efd",
   "metadata": {},
   "outputs": [
    {
     "data": {
      "text/plain": [
       "Counter({'i': 2,\n",
       "         'am': 1,\n",
       "         'an': 1,\n",
       "         'indian': 1,\n",
       "         'and': 1,\n",
       "         'live': 1,\n",
       "         'in': 1,\n",
       "         'india': 1})"
      ]
     },
     "execution_count": 7,
     "metadata": {},
     "output_type": "execute_result"
    }
   ],
   "source": [
    "query_counter"
   ]
  },
  {
   "cell_type": "code",
   "execution_count": 8,
   "id": "85262eec",
   "metadata": {},
   "outputs": [],
   "source": [
    "document_counter=Counter(document_tokens)"
   ]
  },
  {
   "cell_type": "code",
   "execution_count": 9,
   "id": "0c76faab",
   "metadata": {},
   "outputs": [
    {
     "data": {
      "text/plain": [
       "Counter({'india': 1,\n",
       "         'is': 1,\n",
       "         'a': 1,\n",
       "         'country': 1,\n",
       "         'for': 2,\n",
       "         'the': 1,\n",
       "         'indians': 1,\n",
       "         'and': 1,\n",
       "         'eveyone': 1})"
      ]
     },
     "execution_count": 9,
     "metadata": {},
     "output_type": "execute_result"
    }
   ],
   "source": [
    "document_counter"
   ]
  },
  {
   "cell_type": "code",
   "execution_count": 10,
   "id": "0de5059e",
   "metadata": {},
   "outputs": [],
   "source": [
    "user_query=\"i am an indian and i live in india\"\n",
    "document=\"india is a country for the indians and for eveyone\""
   ]
  },
  {
   "cell_type": "code",
   "execution_count": 11,
   "id": "801eab4d",
   "metadata": {},
   "outputs": [
    {
     "name": "stdout",
     "output_type": "stream",
     "text": [
      "india\n",
      "and\n"
     ]
    }
   ],
   "source": [
    "for tokens in query_counter.keys() & document_counter.keys():\n",
    "    print(tokens)"
   ]
  },
  {
   "cell_type": "code",
   "execution_count": 12,
   "id": "a6f56ade",
   "metadata": {},
   "outputs": [],
   "source": [
    "#dot product\n",
    "#word level similarity \n",
    "mylist=[]\n",
    "for tokens in query_counter.keys() & document_counter.keys():\n",
    "    mylist.append(query_counter[tokens]*document_counter[tokens])"
   ]
  },
  {
   "cell_type": "code",
   "execution_count": 13,
   "id": "b55207a0",
   "metadata": {},
   "outputs": [
    {
     "data": {
      "text/plain": [
       "[1, 1]"
      ]
     },
     "execution_count": 13,
     "metadata": {},
     "output_type": "execute_result"
    }
   ],
   "source": [
    "mylist"
   ]
  },
  {
   "cell_type": "code",
   "execution_count": 14,
   "id": "dd88f5f6",
   "metadata": {},
   "outputs": [],
   "source": [
    "dot_prod = sum(mylist)"
   ]
  },
  {
   "cell_type": "code",
   "execution_count": 15,
   "id": "3369f6e3",
   "metadata": {},
   "outputs": [],
   "source": [
    "query_magnitude = math.sqrt(sum(query_counter[token] ** 2 for token in query_counter))"
   ]
  },
  {
   "cell_type": "code",
   "execution_count": 16,
   "id": "f584f2af",
   "metadata": {},
   "outputs": [],
   "source": [
    "document_magnitude = math.sqrt(sum(document_counter[token] ** 2 for token in document_counter))"
   ]
  },
  {
   "cell_type": "code",
   "execution_count": 17,
   "id": "be3f19e7",
   "metadata": {},
   "outputs": [],
   "source": [
    "similarity=(dot_prod)/(query_magnitude*document_magnitude)"
   ]
  },
  {
   "cell_type": "code",
   "execution_count": 18,
   "id": "8bed1e82",
   "metadata": {},
   "outputs": [
    {
     "data": {
      "text/plain": [
       "0.17407765595569785"
      ]
     },
     "execution_count": 18,
     "metadata": {},
     "output_type": "execute_result"
    }
   ],
   "source": [
    "similarity"
   ]
  },
  {
   "cell_type": "code",
   "execution_count": 19,
   "id": "d212ebd2",
   "metadata": {},
   "outputs": [],
   "source": [
    "user_query=\"is yoga good for health\"\n",
    "document=\"yoga is very good for living healthy lifesytle.\""
   ]
  },
  {
   "cell_type": "code",
   "execution_count": 20,
   "id": "a7105df2",
   "metadata": {},
   "outputs": [],
   "source": [
    "def cosine_similarity(query, document):\n",
    "    # Tokenize and convert to lowercase\n",
    "    query_tokens = query.lower().split(\" \")\n",
    "    document_tokens = document.lower().split(\" \")\n",
    "\n",
    "    # Create Counters for query and document\n",
    "    query_counter = Counter(query_tokens)\n",
    "    document_counter = Counter(document_tokens)\n",
    "\n",
    "    # Calculate dot product\n",
    "    dot_product = sum(query_counter[token] * document_counter[token] for token in query_counter.keys() & document_counter.keys())\n",
    "\n",
    "    # Calculate magnitudes\n",
    "    query_magnitude = math.sqrt(sum(query_counter[token] ** 2 for token in query_counter))\n",
    "    document_magnitude = math.sqrt(sum(document_counter[token] ** 2 for token in document_counter))\n",
    "\n",
    "    # Calculate cosine similarity\n",
    "    similarity = dot_product / (query_magnitude * document_magnitude) if query_magnitude * document_magnitude != 0 else 0\n",
    "\n",
    "    return similarity"
   ]
  },
  {
   "cell_type": "code",
   "execution_count": 21,
   "id": "86150e9b",
   "metadata": {},
   "outputs": [
    {
     "data": {
      "text/plain": [
       "0.6324555320336759"
      ]
     },
     "execution_count": 21,
     "metadata": {},
     "output_type": "execute_result"
    }
   ],
   "source": [
    "cosine_similarity(user_query,document)"
   ]
  },
  {
   "cell_type": "code",
   "execution_count": 22,
   "id": "6f82b669",
   "metadata": {},
   "outputs": [],
   "source": [
    "corpus_of_documents = [\n",
    "    \"Take a leisurely walk in the park and enjoy the fresh air.\",\n",
    "    \"Visit a local museum and discover something new.\",\n",
    "    \"Attend a live music concert and feel the rhythm.\",\n",
    "    \"Go for a hike and admire the natural scenery.\",\n",
    "    \"Have a picnic with friends and share some laughs.\",\n",
    "    \"Explore a new cuisine by dining at an ethnic restaurant.\",\n",
    "    \"Take a yoga class and stretch your body and mind.\",\n",
    "    \"Join a local sports league and enjoy some friendly competition.\",\n",
    "    \"Attend a workshop or lecture on a topic you're interested in.\",\n",
    "    \"Visit an amusement park and ride the roller coasters.\"\n",
    "]"
   ]
  },
  {
   "cell_type": "code",
   "execution_count": 23,
   "id": "9e6577e2",
   "metadata": {},
   "outputs": [],
   "source": [
    "def return_response(query, corpus):\n",
    "    similarities = []\n",
    "    for doc in corpus:\n",
    "        similarity = cosine_similarity(query, doc)\n",
    "        similarities.append(similarity)\n",
    "    return corpus_of_documents[similarities.index(max(similarities))]"
   ]
  },
  {
   "cell_type": "code",
   "execution_count": 24,
   "id": "a5c14916",
   "metadata": {},
   "outputs": [],
   "source": [
    "user_input=\"i like fresh air.\""
   ]
  },
  {
   "cell_type": "code",
   "execution_count": 25,
   "id": "377cbbd5",
   "metadata": {},
   "outputs": [],
   "source": [
    "relevant_document=return_response(user_input,corpus_of_documents)"
   ]
  },
  {
   "cell_type": "code",
   "execution_count": 26,
   "id": "bc54d3e9",
   "metadata": {},
   "outputs": [],
   "source": [
    "user_input2=\"i like to do yoga\""
   ]
  },
  {
   "cell_type": "code",
   "execution_count": 27,
   "id": "357cea19",
   "metadata": {},
   "outputs": [],
   "source": [
    "relevant_document2=return_response(user_input2,corpus_of_documents)"
   ]
  },
  {
   "cell_type": "code",
   "execution_count": 28,
   "id": "a7104a28",
   "metadata": {},
   "outputs": [
    {
     "data": {
      "text/plain": [
       "'Take a yoga class and stretch your body and mind.'"
      ]
     },
     "execution_count": 28,
     "metadata": {},
     "output_type": "execute_result"
    }
   ],
   "source": [
    "relevant_document2"
   ]
  },
  {
   "cell_type": "code",
   "execution_count": 29,
   "id": "238d5c02",
   "metadata": {},
   "outputs": [],
   "source": [
    "#configure LLAMA2\n",
    "#using ollama"
   ]
  },
  {
   "cell_type": "code",
   "execution_count": 30,
   "id": "986fcb84",
   "metadata": {},
   "outputs": [],
   "source": [
    "# augument this response by using llama2 model"
   ]
  },
  {
   "cell_type": "code",
   "execution_count": 31,
   "id": "3c827ae1",
   "metadata": {},
   "outputs": [],
   "source": [
    "import requests\n",
    "import json\n",
    "full_response = []"
   ]
  },
  {
   "cell_type": "code",
   "execution_count": 32,
   "id": "13e2eedf",
   "metadata": {},
   "outputs": [
    {
     "name": "stdout",
     "output_type": "stream",
     "text": [
      " Great! Based on your input, I recommend taking a yoga class to help you relax and stretch your body and mind. Yoga can help improve flexibility, balance, and overall well-being. It's a great way to unwind and reduce stress. Try it out and see the benefits for yourself!\n"
     ]
    }
   ],
   "source": [
    "full_response = []\n",
    "prompt = \"\"\"\n",
    "You are a bot that makes recommendations for activities. You answer in very short sentences and do not include extra information.\n",
    "This is the recommended activity: {relevant_document}\n",
    "The user input is: {user_input}\n",
    "Compile a recommendation to the user based on the recommended activity and the user input.\n",
    "\"\"\"\n",
    "\n",
    "url = 'http://localhost:11434/api/generate'\n",
    "\n",
    "\n",
    "data = {\n",
    "    \"model\": \"llama2\",\n",
    "    \"prompt\": prompt.format(user_input=user_input2, relevant_document=relevant_document2)\n",
    "}\n",
    "\n",
    "headers = {'Content-Type': 'application/json'}\n",
    "\n",
    "response = requests.post(url, data=json.dumps(data), headers=headers, stream=True)\n",
    "\n",
    "\n",
    "try:\n",
    "    for line in response.iter_lines():\n",
    "        # filter out keep-alive new lines\n",
    "        if line:\n",
    "            decoded_line = json.loads(line.decode('utf-8'))\n",
    "            # print(decoded_line['response'])  # uncomment to results, token by token\n",
    "            full_response.append(decoded_line['response'])\n",
    "finally:\n",
    "    response.close()\n",
    "    \n",
    "    \n",
    "print(''.join(full_response))"
   ]
  },
  {
   "cell_type": "code",
   "execution_count": null,
   "id": "e3da866a",
   "metadata": {},
   "outputs": [],
   "source": []
  }
 ],
 "metadata": {
  "kernelspec": {
   "display_name": "Python 3 (ipykernel)",
   "language": "python",
   "name": "python3"
  },
  "language_info": {
   "codemirror_mode": {
    "name": "ipython",
    "version": 3
   },
   "file_extension": ".py",
   "mimetype": "text/x-python",
   "name": "python",
   "nbconvert_exporter": "python",
   "pygments_lexer": "ipython3",
   "version": "3.11.4"
  }
 },
 "nbformat": 4,
 "nbformat_minor": 5
}
